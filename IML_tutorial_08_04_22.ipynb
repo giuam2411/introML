{
  "cells": [
    {
      "cell_type": "markdown",
      "metadata": {
        "id": "view-in-github",
        "colab_type": "text"
      },
      "source": [
        "<a href=\"https://colab.research.google.com/github/giuliaamos/introML/blob/main/IML_tutorial_08_04_22.ipynb\" target=\"_parent\"><img src=\"https://colab.research.google.com/assets/colab-badge.svg\" alt=\"Open In Colab\"/></a>"
      ]
    },
    {
      "cell_type": "markdown",
      "source": [
        "# Neural Network Basics Tutorial 08.04.2022\n",
        "We woul like to invistigate ability neural network with 1 hidden layer to approximate $sin(x)$ from [$-\\pi$,$\\pi$]. \\\\\n",
        "In particular we are interested in the answering the following questions:\n",
        "1.  Could\twe\tdo\tit\twith\t2-layer\tNN?\tHow many neurons do\twe\tneed in\tthe hidden\tlayer? How solution have been changing over\titerations?\n",
        "2.  What activation function is better?\n",
        "4.  What can we say about generalization outside\tof\ttraining\tdomain?\n",
        "5.   What\tloss can\twe\tuse?\tWhat\tshould\twe\tchoose\tin\tcase\toutliers"
      ],
      "metadata": {
        "id": "1OWgLIbiiHSZ"
      }
    },
    {
      "cell_type": "code",
      "execution_count": null,
      "metadata": {
        "id": "ng26NasqZNOF"
      },
      "outputs": [],
      "source": [
        "#Import neccessary modules\n",
        "%matplotlib inline\n",
        "import torch\n",
        "import math\n",
        "import random\n",
        "import numpy as np\n",
        "import matplotlib.pyplot as plt\n",
        "from tqdm import tqdm\n",
        "  import os\n",
        "  import imageio\n",
        "  from IPython.display import Image"
      ]
    },
    {
      "cell_type": "code",
      "execution_count": null,
      "metadata": {
        "id": "5eLfZnJQZNOI"
      },
      "outputs": [],
      "source": [
        "from torch.nn.modules.activation import Tanh\n",
        "# Fix all the sources of randomness to provide reproducibility\n",
        "torch.manual_seed(42)\n",
        "random.seed(42)\n",
        "np.random.seed(42)\n",
        "\n",
        "\n",
        "# Use the nn package to define our model as a sequence of layers. nn.Sequential\n",
        "# is a Module which contains other Modules, and applies them in sequence to\n",
        "# produce its output. The Linear Module computes output from input using a\n",
        "# linear function, and holds internal Tensors for its weight and bias.\n",
        "# The Flatten layer flatens the output of the linear layer to a 1D tensor,\n",
        "# to match the shape of `y`.\n",
        "\n",
        "\n",
        "class SinusApproximator:\n",
        "  \n",
        "  def __init__(self, hidden_layer_neurons_num,activation_function):\n",
        "    \n",
        "    self.hidden_layer_neurons_num=2,\n",
        "    if activation_function==\"Tanh\":\n",
        "      activation_function=torch.nn.Tanh()\n",
        "    elif activation_function==\"Sigmoid\":\n",
        "      activation_function=torch.nn.Sigmoid()\n",
        "    elif activation_function==\"ReLU\":\n",
        "      activation_function=torch.nn.ReLU()\n",
        "    elif activation_function==\"ReLU6\":\n",
        "      activation_function=torch.nn.ReLU6()\n",
        "    elif activation_function==\"SELU\":\n",
        "      activation_function=torch.nn.SELU()\n",
        "    \n",
        "    # Create model\n",
        "    self.model = torch.nn.Sequential(\n",
        "        torch.nn.Linear(1, hidden_layer_neurons_num),\n",
        "        activation_function,\n",
        "        torch.nn.Linear(hidden_layer_neurons_num,1),\n",
        "        torch.nn.Flatten(0, 1)\n",
        "    )\n",
        "\n",
        "  def train(self, data_x, data_y, epochs_num=2000,\\\n",
        "              learning_rate=1e-5,\\\n",
        "              loss_function=\"L2\",\\\n",
        "  ):\n",
        "    \n",
        "    \n",
        "    # Create Tensors to hold input and outputs.\n",
        "    self.x_train = data_x\n",
        "    self.y_train = data_y\n",
        "    self.xx = self.x_train.unsqueeze(-1)\n",
        "    \n",
        "    # The nn package also contains definitions of popular loss functions; in this\n",
        "    # case we will use Mean Squared Error (MSE) as our loss function.\n",
        "    if loss_function==\"L1\":\n",
        "      loss_fn = torch.nn.L1Loss(reduction='sum')\n",
        "    elif loss_function==\"L2\":\n",
        "      loss_fn = torch.nn.MSELoss(reduction='sum')\n",
        "\n",
        "    self.predictions = []\n",
        "    self.losses = []\n",
        "\n",
        "    for t in range(int(epochs_num)):\n",
        "\n",
        "        # Forward pass: compute predicted y by passing x to the model. Module objects\n",
        "        # override the __call__ operator so you can call them like functions. When\n",
        "        # doing so you pass a Tensor of input data to the Module and it produces\n",
        "        # a Tensor of output data.\n",
        "        y_pred = self.model(self.xx)\n",
        "\n",
        "        # Compute and print loss. We pass Tensors containing the predicted and true\n",
        "        # values of y, and the loss function returns a Tensor containing the\n",
        "        # loss.\n",
        "        loss = loss_fn(y_pred, self.y_train)\n",
        "      \n",
        "        # Zero the gradients before running the backward pass.\n",
        "        self.model.zero_grad()\n",
        "\n",
        "        # Backward pass: compute gradient of the loss with respect to all the learnable\n",
        "        # parameters of the model. Internally, the parameters of each Module are stored\n",
        "        # in Tensors with requires_grad=True, so this call will compute gradients for\n",
        "        # all learnable parameters in the model.\n",
        "        loss.backward()\n",
        "\n",
        "        # Update the weights using gradient descent. Each parameter is a Tensor, so\n",
        "        # we can access its gradients like we did before.\n",
        "        with torch.no_grad():\n",
        "            for param in self.model.parameters():\n",
        "                param -= learning_rate * param.grad\n",
        "        \n",
        "        #Collect losses\n",
        "        self.losses.append(loss.detach())\n",
        "        #Log it\n",
        "        if t % 1000 == 0:\n",
        "            print(\"Epoch\",t,\"/\",int(epochs_num),\"Loss is:\",loss.item())\n",
        "            self.predictions.append(y_pred.detach())\n",
        "\n",
        "  #This function is used to visualize our prediction\n",
        "  def predict(self, data_x):\n",
        "    self.model.eval()\n",
        "    data_x=data_x.unsqueeze(-1)\n",
        "    prediction = self.model(data_x)\n",
        "    prediction = prediction.detach()\n",
        "    return prediction\n",
        "\n",
        "  def visulize_prediction(self, x_data, y_data_gt, y_data_pred, y_min=-1.01, y_max=1.01):\n",
        "    plt.figure(figsize=(10,6))\n",
        "    plt.plot(x_data, y_data_pred, c=\"red\",label=\"learned function\")\n",
        "    plt.plot(x_data, y_data_gt, label=\"original function\")\n",
        "    plt.xlim(x_data[0]-0.01,x_data[-1]+0.01)\n",
        "    plt.ylim(y_min,y_max)\n",
        "    plt.legend()\n",
        "    plt.show()\n",
        "    plt.close()\n",
        "\n",
        "  #This function is used to visualize our loss\n",
        "  def plot_loss(self):\n",
        "    plt.figure(figsize=(10,6))\n",
        "    plt.plot(self.losses, label=\"loss dynamic durign trainig\")\n",
        "    plt.legend()\n",
        "    plt.show()\n",
        "    plt.close()\n",
        "\n",
        "\n",
        "  # This function is used to create animation of training dynamic\n",
        "  def create_visualization_of_training_dynamic(self, y_min=-1.01, y_max=1.01):\n",
        "    !rm -rf training_dynamic\n",
        "    !mkdir training_dynamic\n",
        "    !rm training_dynamic2.gif\n",
        "    i=0\n",
        "    for p in tqdm(self.predictions):\n",
        "      plt.figure(figsize=(10,6))\n",
        "      plt.plot(self.x_train,p,c=\"red\",label=\"learned function at step \"+str(int(i*1e3)))\n",
        "      plt.plot(self.x_train,self.y_train,label=\"original function\")\n",
        "      plt.xlim(self.x_train[0],self.x_train[-1])\n",
        "      plt.ylim(y_min,y_max)\n",
        "      plt.legend()\n",
        "      if i<=9:\n",
        "        plt.savefig(\"training_dynamic/00\"+str(i)+\".png\")\n",
        "      elif i<=99:\n",
        "        plt.savefig(\"training_dynamic/0\"+str(i)+\".png\")\n",
        "      plt.close()\n",
        "      i+=1\n",
        "    with imageio.get_writer('training_dynamic2.gif', mode='I') as writer:\n",
        "      for filename in tqdm(sorted(os.listdir(\"training_dynamic/\"))):\n",
        "          image = imageio.imread(os.path.join(\"training_dynamic/\",filename))\n",
        "          writer.append_data(image)"
      ]
    },
    {
      "cell_type": "code",
      "source": [
        "#Let's generate our data\n",
        "x_data = torch.linspace(-math.pi, math.pi, 2000)\n",
        "y_data_gt = torch.sin(x_data)"
      ],
      "metadata": {
        "id": "BIXvQ3aOtTDf"
      },
      "execution_count": null,
      "outputs": []
    },
    {
      "cell_type": "markdown",
      "source": [
        "## Question 1: Could\twe\tapproximate $sin(x)$ from [$-\\pi$,$\\pi$] it\twith\t2-layer\tNN?\tHow many neurons do\twe\tneed\t\tin\tthe hidden\tlayer?"
      ],
      "metadata": {
        "id": "rueoGfM_nXMK"
      }
    },
    {
      "cell_type": "markdown",
      "source": [
        "Try different number of neurons below (by comment/uncomment appropriate lines)"
      ],
      "metadata": {
        "id": "Cx5E17Z4JOeT"
      }
    },
    {
      "cell_type": "code",
      "source": [
        "sin_approx = SinusApproximator(2,\"Sigmoid\")\n",
        "#sin_approx = SinusApproximator(10,\"Sigmoid\")\n",
        "#sin_approx = SinusApproximator(20,\"Sigmoid\")"
      ],
      "metadata": {
        "id": "HFpytQC-JYRp"
      },
      "execution_count": null,
      "outputs": []
    },
    {
      "cell_type": "code",
      "source": [
        "# Let create model\n",
        "sin_approx.train(x_data, y_data_gt, 1e5,1e-5,\"L2\")\n",
        "\n",
        "#Let's visualize plots\n",
        "sin_approx.plot_loss()\n",
        "y_data_pred = sin_approx.predict(x_data)\n",
        "\n",
        "sin_approx.visulize_prediction(x_data, y_data_gt, y_data_pred)\n",
        "\n",
        "#Let's visulize dynamic of training\n",
        "sin_approx.create_visualization_of_training_dynamic()\n",
        "Image(open('training_dynamic2.gif','rb').read())\n",
        "\n"
      ],
      "metadata": {
        "id": "QyEkYPZwzRVt",
        "colab": {
          "base_uri": "https://localhost:8080/",
          "height": 1000
        },
        "outputId": "680388f5-950a-4f23-b23e-0f87f9cee0c3"
      },
      "execution_count": null,
      "outputs": [
        {
          "output_type": "stream",
          "text": [
            "\u001b[1;30;43mThis cell output is too large and can only be displayed while logged in.\u001b[0m\n"
          ]
        }
      ]
    },
    {
      "cell_type": "markdown",
      "source": [
        "## Question 2. What activation function is better?"
      ],
      "metadata": {
        "id": "rUxek5QltPCG"
      }
    },
    {
      "cell_type": "markdown",
      "source": [
        "Try different functions below and observe the difference"
      ],
      "metadata": {
        "id": "mMFUKJRdIw-n"
      }
    },
    {
      "cell_type": "code",
      "source": [
        "sin_approx = SinusApproximator(20,\"Tanh\")\n",
        "#sin_approx = SinusApproximator(20,\"ReLU\")\n",
        "#sin_approx = SinusApproximator(20,\"ReLU6\")\n",
        "#sin_approx = SinusApproximator(20,\"SELU\")"
      ],
      "metadata": {
        "id": "NATyJjUWIv5A"
      },
      "execution_count": null,
      "outputs": []
    },
    {
      "cell_type": "code",
      "source": [
        "# Let create model\n",
        "sin_approx.train(x_data, y_data_gt, 1e5,1e-6,\"L1\")\n",
        "\n",
        "#Let's visualize plots\n",
        "sin_approx.plot_loss()\n",
        "y_data_pred = sin_approx.predict(x_data)\n",
        "sin_approx.visulize_prediction(x_data, y_data_gt, y_data_pred)\n",
        "\n",
        "#Let's visulize dynamic of training\n",
        "sin_approx.create_visualization_of_training_dynamic()\n",
        "Image(open('training_dynamic2.gif','rb').read())"
      ],
      "metadata": {
        "id": "bf4Rq8DSv3BE",
        "colab": {
          "base_uri": "https://localhost:8080/",
          "height": 1000
        },
        "outputId": "8d489acb-c42b-41f8-81fa-9767554e99d3"
      },
      "execution_count": null,
      "outputs": [
        {
          "output_type": "stream",
          "text": [
            "\u001b[1;30;43mThis cell output is too large and can only be displayed while logged in.\u001b[0m\n"
          ]
        }
      ]
    },
    {
      "cell_type": "markdown",
      "source": [
        "## Question 3. Do we have generalization outside of\ttraining domain?"
      ],
      "metadata": {
        "id": "Ok39gqqnmnoN"
      }
    },
    {
      "cell_type": "code",
      "execution_count": null,
      "metadata": {
        "id": "ew9fZdhVwyN2",
        "colab": {
          "base_uri": "https://localhost:8080/",
          "height": 374
        },
        "outputId": "21ad6c2a-f1d2-4af2-e7c4-a1d65269360a"
      },
      "outputs": [
        {
          "output_type": "display_data",
          "data": {
            "text/plain": [
              "<Figure size 720x432 with 1 Axes>"
            ],
            "image/png": "[encoded data removed]"
          },
          "metadata": {
            "needs_background": "light"
          }
        }
      ],
      "source": [
        "x_data = torch.linspace(-10*math.pi, 10*math.pi, 4000)\n",
        "y_data_gt = torch.sin(x_data)\n",
        "y_data_pred = sin_approx.predict(x_data)\n",
        "sin_approx.visulize_prediction(x_data, y_data_gt, y_data_pred,-25,25)"
      ]
    },
    {
      "cell_type": "markdown",
      "source": [
        "## Question 4. What\tloss function can\twe\tuse?\tWhat\tshould\twe\tchoose\tin\tcase\toutliers?\n",
        "\n"
      ],
      "metadata": {
        "id": "UxnybG-J5WRQ"
      }
    },
    {
      "cell_type": "code",
      "source": [
        "#Let's generate data with outliers\n",
        "x_data = torch.linspace(-math.pi, math.pi, 4000)\n",
        "y_data_gt = torch.sin(x_data)\n",
        "y_data_gt[998:1002] = 100\n",
        "y_data_gt[1998:2002] = -100\n",
        "y_data_gt[2998:3002] = 100"
      ],
      "metadata": {
        "id": "L_K9Iojo5b23"
      },
      "execution_count": null,
      "outputs": []
    },
    {
      "cell_type": "code",
      "source": [
        "# Create model\n",
        "sin_approx = SinusApproximator(20,\"Sigmoid\")\n",
        "sin_approx.train(x_data, y_data_gt, 1e5,1e-5,\"L2\")\n",
        "\n",
        "#Let's visualize plots\n",
        "sin_approx.plot_loss()\n",
        "y_data_pred = sin_approx.predict(x_data)"
      ],
      "metadata": {
        "id": "YK1qlw-75uZ3",
        "colab": {
          "base_uri": "https://localhost:8080/",
          "height": 1000
        },
        "outputId": "a18d481e-475f-4fc8-e0c8-a202852143f8"
      },
      "execution_count": null,
      "outputs": [
        {
          "output_type": "stream",
          "name": "stdout",
          "text": [
            "Epoch 0 / 100000 Loss is: 122385.890625\n",
            "Epoch 1000 / 100000 Loss is: 119846.5390625\n",
            "Epoch 2000 / 100000 Loss is: 119460.5625\n",
            "Epoch 3000 / 100000 Loss is: 119311.2421875\n",
            "Epoch 4000 / 100000 Loss is: 119241.8125\n",
            "Epoch 5000 / 100000 Loss is: 119214.3125\n",
            "Epoch 6000 / 100000 Loss is: 119202.2734375\n",
            "Epoch 7000 / 100000 Loss is: 119193.796875\n",
            "Epoch 8000 / 100000 Loss is: 119184.171875\n",
            "Epoch 9000 / 100000 Loss is: 119172.1328125\n",
            "Epoch 10000 / 100000 Loss is: 119157.171875\n",
            "Epoch 11000 / 100000 Loss is: 119138.453125\n",
            "Epoch 12000 / 100000 Loss is: 119115.328125\n",
            "Epoch 13000 / 100000 Loss is: 119087.828125\n",
            "Epoch 14000 / 100000 Loss is: 119056.5703125\n",
            "Epoch 15000 / 100000 Loss is: 119022.65625\n",
            "Epoch 16000 / 100000 Loss is: 118987.375\n",
            "Epoch 17000 / 100000 Loss is: 118952.171875\n",
            "Epoch 18000 / 100000 Loss is: 118918.484375\n",
            "Epoch 19000 / 100000 Loss is: 118887.46875\n",
            "Epoch 20000 / 100000 Loss is: 118859.953125\n",
            "Epoch 21000 / 100000 Loss is: 118836.3671875\n",
            "Epoch 22000 / 100000 Loss is: 118816.703125\n",
            "Epoch 23000 / 100000 Loss is: 118800.734375\n",
            "Epoch 24000 / 100000 Loss is: 118788.0390625\n",
            "Epoch 25000 / 100000 Loss is: 118778.0625\n",
            "Epoch 26000 / 100000 Loss is: 118770.3359375\n",
            "Epoch 27000 / 100000 Loss is: 118764.34375\n",
            "Epoch 28000 / 100000 Loss is: 118759.6953125\n",
            "Epoch 29000 / 100000 Loss is: 118756.015625\n",
            "Epoch 30000 / 100000 Loss is: 118753.0703125\n",
            "Epoch 31000 / 100000 Loss is: 118750.6328125\n",
            "Epoch 32000 / 100000 Loss is: 118748.546875\n",
            "Epoch 33000 / 100000 Loss is: 118746.6953125\n",
            "Epoch 34000 / 100000 Loss is: 118744.96875\n",
            "Epoch 35000 / 100000 Loss is: 118743.3515625\n",
            "Epoch 36000 / 100000 Loss is: 118741.7109375\n",
            "Epoch 37000 / 100000 Loss is: 118740.0703125\n",
            "Epoch 38000 / 100000 Loss is: 118738.375\n",
            "Epoch 39000 / 100000 Loss is: 118736.625\n",
            "Epoch 40000 / 100000 Loss is: 118734.78125\n",
            "Epoch 41000 / 100000 Loss is: 118732.8359375\n",
            "Epoch 42000 / 100000 Loss is: 118730.75\n",
            "Epoch 43000 / 100000 Loss is: 118728.546875\n",
            "Epoch 44000 / 100000 Loss is: 118726.1875\n",
            "Epoch 45000 / 100000 Loss is: 118723.6796875\n",
            "Epoch 46000 / 100000 Loss is: 118721.0\n",
            "Epoch 47000 / 100000 Loss is: 118718.1328125\n",
            "Epoch 48000 / 100000 Loss is: 118715.078125\n",
            "Epoch 49000 / 100000 Loss is: 118711.828125\n",
            "Epoch 50000 / 100000 Loss is: 118708.3515625\n",
            "Epoch 51000 / 100000 Loss is: 118704.6484375\n",
            "Epoch 52000 / 100000 Loss is: 118700.71875\n",
            "Epoch 53000 / 100000 Loss is: 118696.5234375\n",
            "Epoch 54000 / 100000 Loss is: 118692.078125\n",
            "Epoch 55000 / 100000 Loss is: 118687.3671875\n",
            "Epoch 56000 / 100000 Loss is: 118682.3671875\n",
            "Epoch 57000 / 100000 Loss is: 118677.0625\n",
            "Epoch 58000 / 100000 Loss is: 118671.4375\n",
            "Epoch 59000 / 100000 Loss is: 118665.484375\n",
            "Epoch 60000 / 100000 Loss is: 118659.15625\n",
            "Epoch 61000 / 100000 Loss is: 118652.46875\n",
            "Epoch 62000 / 100000 Loss is: 118645.3515625\n",
            "Epoch 63000 / 100000 Loss is: 118637.8125\n",
            "Epoch 64000 / 100000 Loss is: 118629.7890625\n",
            "Epoch 65000 / 100000 Loss is: 118621.2421875\n",
            "Epoch 66000 / 100000 Loss is: 118612.125\n",
            "Epoch 67000 / 100000 Loss is: 118602.3984375\n",
            "Epoch 68000 / 100000 Loss is: 118591.9609375\n",
            "Epoch 69000 / 100000 Loss is: 118580.796875\n",
            "Epoch 70000 / 100000 Loss is: 118568.7578125\n",
            "Epoch 71000 / 100000 Loss is: 118555.8046875\n",
            "Epoch 72000 / 100000 Loss is: 118541.8046875\n",
            "Epoch 73000 / 100000 Loss is: 118526.6875\n",
            "Epoch 74000 / 100000 Loss is: 118510.296875\n",
            "Epoch 75000 / 100000 Loss is: 118492.5625\n",
            "Epoch 76000 / 100000 Loss is: 118473.390625\n",
            "Epoch 77000 / 100000 Loss is: 118452.671875\n",
            "Epoch 78000 / 100000 Loss is: 118430.390625\n",
            "Epoch 79000 / 100000 Loss is: 118406.453125\n",
            "Epoch 80000 / 100000 Loss is: 118380.8671875\n",
            "Epoch 81000 / 100000 Loss is: 118353.625\n",
            "Epoch 82000 / 100000 Loss is: 118324.78125\n",
            "Epoch 83000 / 100000 Loss is: 118294.375\n",
            "Epoch 84000 / 100000 Loss is: 118262.5546875\n",
            "Epoch 85000 / 100000 Loss is: 118229.390625\n",
            "Epoch 86000 / 100000 Loss is: 118195.078125\n",
            "Epoch 87000 / 100000 Loss is: 118159.7265625\n",
            "Epoch 88000 / 100000 Loss is: 118123.46875\n",
            "Epoch 89000 / 100000 Loss is: 118086.421875\n",
            "Epoch 90000 / 100000 Loss is: 118048.703125\n",
            "Epoch 91000 / 100000 Loss is: 118010.3671875\n",
            "Epoch 92000 / 100000 Loss is: 117971.515625\n",
            "Epoch 93000 / 100000 Loss is: 117932.140625\n",
            "Epoch 94000 / 100000 Loss is: 117892.25\n",
            "Epoch 95000 / 100000 Loss is: 117851.8203125\n",
            "Epoch 96000 / 100000 Loss is: 117810.7890625\n",
            "Epoch 97000 / 100000 Loss is: 117769.125\n",
            "Epoch 98000 / 100000 Loss is: 117726.8984375\n",
            "Epoch 99000 / 100000 Loss is: 117684.34375\n"
          ]
        },
        {
          "output_type": "display_data",
          "data": {
            "text/plain": [
              "<Figure size 720x432 with 1 Axes>"
            ],
            "image/png": "[encoded data removed]"
          },
          "metadata": {
            "needs_background": "light"
          }
        }
      ]
    },
    {
      "cell_type": "code",
      "source": [
        "sin_approx.visulize_prediction(x_data, y_data_gt, y_data_pred, -100, 100)\n",
        "\n",
        "#Let's visulize dynamic of training\n",
        "sin_approx.create_visualization_of_training_dynamic(-100,100)\n",
        "Image(open('training_dynamic2.gif','rb').read())"
      ],
      "metadata": {
        "id": "TQ9LvTyz6Qzm",
        "colab": {
          "base_uri": "https://localhost:8080/",
          "height": 845
        },
        "outputId": "2612fb4c-68a4-4c8a-f74d-b85a59e8550a"
      },
      "execution_count": null,
      "outputs": [
        {
          "output_type": "stream",
          "text": [
            "\u001b[1;30;43mThis cell output is too large and can only be displayed while logged in.\u001b[0m\n"
          ]
        }
      ]
    },
    {
      "cell_type": "markdown",
      "source": [
        "Let's zoom in to found training artefacts"
      ],
      "metadata": {
        "id": "Uj5TWlskJuhD"
      }
    },
    {
      "cell_type": "code",
      "source": [
        "sin_approx.visulize_prediction(x_data, y_data_gt, y_data_pred, -5, 5)\n",
        "#Let's visulize dynamic of training\n",
        "sin_approx.create_visualization_of_training_dynamic(-5,5)\n",
        "Image(open('training_dynamic2.gif','rb').read())"
      ],
      "metadata": {
        "id": "LZ2pbcllH0yW",
        "colab": {
          "base_uri": "https://localhost:8080/",
          "height": 841
        },
        "outputId": "dcd92d98-408c-4fd2-d1ac-37cd9292f3bb"
      },
      "execution_count": null,
      "outputs": [
        {
          "output_type": "stream",
          "text": [
            "\u001b[1;30;43mThis cell output is too large and can only be displayed while logged in.\u001b[0m\n"
          ]
        }
      ]
    },
    {
      "cell_type": "markdown",
      "source": [
        "Let's train the same model but with L1 loss and observe the difference (imroved robustness in relation to outliers in training dataset)"
      ],
      "metadata": {
        "id": "Ut7KZr2rJ3A-"
      }
    },
    {
      "cell_type": "code",
      "source": [
        "# Create model\n",
        "sin_approx = SinusApproximator(20,\"Sigmoid\")\n",
        "sin_approx.train(x_data, y_data_gt, 1e5,1e-5,\"L1\")\n",
        "\n",
        "#Let's visualize plots\n",
        "sin_approx.plot_loss()\n",
        "y_data_pred = sin_approx.predict(x_data)"
      ],
      "metadata": {
        "id": "VUIlHvAHIW8y",
        "colab": {
          "base_uri": "https://localhost:8080/",
          "height": 1000
        },
        "outputId": "28117d42-a522-436e-c379-c729e8196cfb"
      },
      "execution_count": null,
      "outputs": [
        {
          "output_type": "stream",
          "name": "stdout",
          "text": [
            "Epoch 0 / 100000 Loss is: 3733.416015625\n",
            "Epoch 1000 / 100000 Loss is: 1714.2314453125\n",
            "Epoch 2000 / 100000 Loss is: 1519.777099609375\n",
            "Epoch 3000 / 100000 Loss is: 1494.9674072265625\n",
            "Epoch 4000 / 100000 Loss is: 1638.8004150390625\n",
            "Epoch 5000 / 100000 Loss is: 1591.595458984375\n",
            "Epoch 6000 / 100000 Loss is: 1637.97119140625\n",
            "Epoch 7000 / 100000 Loss is: 1652.64404296875\n",
            "Epoch 8000 / 100000 Loss is: 1654.556396484375\n",
            "Epoch 9000 / 100000 Loss is: 1440.5030517578125\n",
            "Epoch 10000 / 100000 Loss is: 1633.5078125\n",
            "Epoch 11000 / 100000 Loss is: 1395.997802734375\n",
            "Epoch 12000 / 100000 Loss is: 1634.8382568359375\n",
            "Epoch 13000 / 100000 Loss is: 1635.8465576171875\n",
            "Epoch 14000 / 100000 Loss is: 1604.8095703125\n",
            "Epoch 15000 / 100000 Loss is: 1389.110595703125\n",
            "Epoch 16000 / 100000 Loss is: 1579.9400634765625\n",
            "Epoch 17000 / 100000 Loss is: 1555.02685546875\n",
            "Epoch 18000 / 100000 Loss is: 1573.9586181640625\n",
            "Epoch 19000 / 100000 Loss is: 1367.85546875\n",
            "Epoch 20000 / 100000 Loss is: 1539.0927734375\n",
            "Epoch 21000 / 100000 Loss is: 1522.1219482421875\n",
            "Epoch 22000 / 100000 Loss is: 1530.911376953125\n",
            "Epoch 23000 / 100000 Loss is: 1514.27587890625\n",
            "Epoch 24000 / 100000 Loss is: 1505.2987060546875\n",
            "Epoch 25000 / 100000 Loss is: 1485.814697265625\n",
            "Epoch 26000 / 100000 Loss is: 1518.132568359375\n",
            "Epoch 27000 / 100000 Loss is: 1520.87548828125\n",
            "Epoch 28000 / 100000 Loss is: 1514.42529296875\n",
            "Epoch 29000 / 100000 Loss is: 1505.500244140625\n",
            "Epoch 30000 / 100000 Loss is: 1327.1328125\n",
            "Epoch 31000 / 100000 Loss is: 1461.634521484375\n",
            "Epoch 32000 / 100000 Loss is: 1453.2850341796875\n",
            "Epoch 33000 / 100000 Loss is: 1432.3828125\n",
            "Epoch 34000 / 100000 Loss is: 1444.668212890625\n",
            "Epoch 35000 / 100000 Loss is: 1435.4771728515625\n",
            "Epoch 36000 / 100000 Loss is: 1428.6846923828125\n",
            "Epoch 37000 / 100000 Loss is: 1322.207763671875\n",
            "Epoch 38000 / 100000 Loss is: 1433.65869140625\n",
            "Epoch 39000 / 100000 Loss is: 1413.2393798828125\n",
            "Epoch 40000 / 100000 Loss is: 1404.701171875\n",
            "Epoch 41000 / 100000 Loss is: 1399.7589111328125\n",
            "Epoch 42000 / 100000 Loss is: 1398.823486328125\n",
            "Epoch 43000 / 100000 Loss is: 1402.2666015625\n",
            "Epoch 44000 / 100000 Loss is: 1394.9000244140625\n",
            "Epoch 45000 / 100000 Loss is: 1395.262939453125\n",
            "Epoch 46000 / 100000 Loss is: 1393.93798828125\n",
            "Epoch 47000 / 100000 Loss is: 1389.101806640625\n",
            "Epoch 48000 / 100000 Loss is: 1384.13720703125\n",
            "Epoch 49000 / 100000 Loss is: 1344.80517578125\n",
            "Epoch 50000 / 100000 Loss is: 1382.339599609375\n",
            "Epoch 51000 / 100000 Loss is: 1375.3365478515625\n",
            "Epoch 52000 / 100000 Loss is: 1376.9359130859375\n",
            "Epoch 53000 / 100000 Loss is: 1358.4532470703125\n",
            "Epoch 54000 / 100000 Loss is: 1356.83740234375\n",
            "Epoch 55000 / 100000 Loss is: 1347.8599853515625\n",
            "Epoch 56000 / 100000 Loss is: 1354.46142578125\n",
            "Epoch 57000 / 100000 Loss is: 1349.7486572265625\n",
            "Epoch 58000 / 100000 Loss is: 1352.4306640625\n",
            "Epoch 59000 / 100000 Loss is: 1339.7724609375\n",
            "Epoch 60000 / 100000 Loss is: 1334.7457275390625\n",
            "Epoch 61000 / 100000 Loss is: 1343.595458984375\n",
            "Epoch 62000 / 100000 Loss is: 1347.21435546875\n",
            "Epoch 63000 / 100000 Loss is: 1346.967529296875\n",
            "Epoch 64000 / 100000 Loss is: 1348.8546142578125\n",
            "Epoch 65000 / 100000 Loss is: 1349.826171875\n",
            "Epoch 66000 / 100000 Loss is: 1344.298095703125\n",
            "Epoch 67000 / 100000 Loss is: 1345.797119140625\n",
            "Epoch 68000 / 100000 Loss is: 1357.018310546875\n",
            "Epoch 69000 / 100000 Loss is: 1356.4600830078125\n",
            "Epoch 70000 / 100000 Loss is: 1353.1351318359375\n",
            "Epoch 71000 / 100000 Loss is: 1359.404296875\n",
            "Epoch 72000 / 100000 Loss is: 1358.347900390625\n",
            "Epoch 73000 / 100000 Loss is: 1358.9228515625\n",
            "Epoch 74000 / 100000 Loss is: 1370.58544921875\n",
            "Epoch 75000 / 100000 Loss is: 1372.6346435546875\n",
            "Epoch 76000 / 100000 Loss is: 1375.6109619140625\n",
            "Epoch 77000 / 100000 Loss is: 1377.8255615234375\n",
            "Epoch 78000 / 100000 Loss is: 1379.15478515625\n",
            "Epoch 79000 / 100000 Loss is: 1376.7841796875\n",
            "Epoch 80000 / 100000 Loss is: 1377.476806640625\n",
            "Epoch 81000 / 100000 Loss is: 1378.6754150390625\n",
            "Epoch 82000 / 100000 Loss is: 1373.7783203125\n",
            "Epoch 83000 / 100000 Loss is: 1377.4737548828125\n",
            "Epoch 84000 / 100000 Loss is: 1372.585205078125\n",
            "Epoch 85000 / 100000 Loss is: 1373.6279296875\n",
            "Epoch 86000 / 100000 Loss is: 1378.9532470703125\n",
            "Epoch 87000 / 100000 Loss is: 1380.8876953125\n",
            "Epoch 88000 / 100000 Loss is: 1375.039306640625\n",
            "Epoch 89000 / 100000 Loss is: 1370.947265625\n",
            "Epoch 90000 / 100000 Loss is: 1379.4853515625\n",
            "Epoch 91000 / 100000 Loss is: 1379.278564453125\n",
            "Epoch 92000 / 100000 Loss is: 1378.3236083984375\n",
            "Epoch 93000 / 100000 Loss is: 1373.206298828125\n",
            "Epoch 94000 / 100000 Loss is: 1379.952880859375\n",
            "Epoch 95000 / 100000 Loss is: 1378.1566162109375\n",
            "Epoch 96000 / 100000 Loss is: 1379.7127685546875\n",
            "Epoch 97000 / 100000 Loss is: 1380.4273681640625\n",
            "Epoch 98000 / 100000 Loss is: 1380.9644775390625\n",
            "Epoch 99000 / 100000 Loss is: 1379.3609619140625\n"
          ]
        },
        {
          "output_type": "display_data",
          "data": {
            "text/plain": [
              "<Figure size 720x432 with 1 Axes>"
            ],
            "image/png": "[encoded data removed]"
          },
          "metadata": {
            "needs_background": "light"
          }
        }
      ]
    },
    {
      "cell_type": "code",
      "source": [
        "sin_approx.visulize_prediction(x_data, y_data_gt, y_data_pred, -5, 5)\n",
        "\n",
        "#Let's visulize dynamic of training\n",
        "sin_approx.create_visualization_of_training_dynamic(-5,5)\n",
        "Image(open('training_dynamic2.gif','rb').read())"
      ],
      "metadata": {
        "id": "75MJjm4fIiZC",
        "colab": {
          "base_uri": "https://localhost:8080/",
          "height": 841
        },
        "outputId": "1070ea55-d29c-4ea1-d844-236425bafd6f"
      },
      "execution_count": null,
      "outputs": [
        {
          "output_type": "stream",
          "text": [
            "\u001b[1;30;43mThis cell output is too large and can only be displayed while logged in.\u001b[0m\n"
          ]
        }
      ]
    },
    {
      "cell_type": "code",
      "source": [],
      "metadata": {
        "id": "E5OJq6ruEMWg"
      },
      "execution_count": null,
      "outputs": []
    }
  ],
  "metadata": {
    "colab": {
      "collapsed_sections": [],
      "provenance": [],
      "include_colab_link": true
    },
    "kernelspec": {
      "display_name": "Python 3",
      "language": "python",
      "name": "python3"
    },
    "language_info": {
      "codemirror_mode": {
        "name": "ipython",
        "version": 3
      },
      "file_extension": ".py",
      "mimetype": "text/x-python",
      "name": "python",
      "nbconvert_exporter": "python",
      "pygments_lexer": "ipython3",
      "version": "3.7.11"
    }
  },
  "nbformat": 4,
  "nbformat_minor": 0
}